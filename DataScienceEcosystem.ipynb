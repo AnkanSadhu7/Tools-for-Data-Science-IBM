{
  "metadata": {
    "celltoolbar": "Raw Cell Format",
    "kernelspec": {
      "name": "python",
      "display_name": "Pyolite",
      "language": "python"
    },
    "language_info": {
      "codemirror_mode": {
        "name": "python",
        "version": 3
      },
      "file_extension": ".py",
      "mimetype": "text/x-python",
      "name": "python",
      "nbconvert_exporter": "python",
      "pygments_lexer": "ipython3",
      "version": "3.8"
    }
  },
  "nbformat_minor": 5,
  "nbformat": 4,
  "cells": [
    {
      "cell_type": "markdown",
      "source": "# Data Science Tools and Ecosystem\n\n##### In this notebook, Data Science Tools and Ecosystem are summarized.",
      "metadata": {},
      "id": "636d5912"
    },
    {
      "cell_type": "markdown",
      "source": "__Objectives:__\n\n* Popular languages\n* commonly used libraries\n* Data science tools table",
      "metadata": {},
      "id": "0fb1fb2a"
    },
    {
      "cell_type": "markdown",
      "source": "#### Some of the popular languages that Data Scientists use are:\n\n1. R\n2. Python\n3. Scala\n4. julia\n",
      "metadata": {},
      "id": "cce6036d"
    },
    {
      "cell_type": "markdown",
      "source": "##### Some of the commonly used libraries used by Data Scientists include:\n\n1. Pandas\n2. NumPy\n3. Matplotlib",
      "metadata": {},
      "id": "7d31ac27"
    },
    {
      "cell_type": "markdown",
      "source": "|Data Science Tools|\n---\n|RStudio| \n|Apache Spark| \n|TensorFlow| \n",
      "metadata": {},
      "id": "4d3f2d2a"
    },
    {
      "cell_type": "markdown",
      "source": "### Below are a few examples of evaluating arithmetic expressions in Python\n",
      "metadata": {},
      "id": "552bfd6b"
    },
    {
      "cell_type": "code",
      "source": "#This a simple arithmetic expression to mutiply then add integers\n(3*4)+5",
      "metadata": {},
      "execution_count": null,
      "outputs": [
        {
          "execution_count": 1,
          "output_type": "execute_result",
          "data": {
            "text/plain": "17"
          },
          "metadata": {}
        }
      ],
      "id": "7334d4b4"
    },
    {
      "cell_type": "code",
      "source": "#This will convert 200 minutes to hours by diving by 60\n\n200/60",
      "metadata": {
        "trusted": true
      },
      "execution_count": 3,
      "outputs": [
        {
          "execution_count": 3,
          "output_type": "execute_result",
          "data": {
            "text/plain": "3.3333333333333335"
          },
          "metadata": {}
        }
      ],
      "id": "cac9644e"
    },
    {
      "cell_type": "markdown",
      "source": "## Author:\nAnkan Sadhu",
      "metadata": {},
      "id": "aa0e5ca9-21aa-4fb6-828b-bc27b10f789c"
    },
    {
      "cell_type": "code",
      "source": "",
      "metadata": {},
      "execution_count": null,
      "outputs": [],
      "id": "a2ffc92b-cc9d-48c8-b6f2-b689226cb3ff"
    }
  ]
}